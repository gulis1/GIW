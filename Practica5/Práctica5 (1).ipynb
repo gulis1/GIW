{
 "cells": [
  {
   "cell_type": "markdown",
   "metadata": {},
   "source": [
    "### Práctica de Web Scraping\n",
    "\n",
    "Se va a considerar una página web de una tienda de internet: https://caorema.com\n",
    "\n",
    "En la tienda se muestran diferentes objetos para comprar agrupados en 4 páginas. En cada página, cada objeto tiene asociada un conjunto de información: nombre, foto, descripción, precio, valoración y una etiqueta que indica si es una novedad o un top-ventas.\n",
    "\n",
    "A continuación, se muestra una captura de la página"
   ]
  },
  {
   "cell_type": "code",
   "execution_count": 2,
   "metadata": {},
   "outputs": [],
   "source": [
    "# from IPython.display import Image\n",
    "# Image(filename='Captura.png')"
   ]
  },
  {
   "cell_type": "markdown",
   "metadata": {},
   "source": [
    "Se pide hacer un buscador que permita recuperar información de la página. Para ello se le mostrará al usuario 4 opciones entre las que tiene que elegir: Buscar por categoría, Buscar por etiqueta top-ventas o novedad, Buscar por precio o Buscar por descripción."
   ]
  },
  {
   "cell_type": "markdown",
   "metadata": {},
   "source": [
    "__Buscar por categoría__[2,5 puntos]\n",
    "\n",
    "Si elige esta opción se le mostrará un listado con las 5 categorías de productos:Pulseras de Nudos, Collares de Cordón, Chakras y Energía Positiva,Bisutería y Collares Largos. Para facilitar la selección se asignará un número a cada categoria, de manera que el usuario elija por número.Una vez elegido una categoría, el programa mostrará una lista de todas las objetos que pertenecen a esa categoría (asignar un número a cada objeto para que sea más fácil elegir el objeto).  A continuación, el usuario elegirá un objeto y el programa deberá mostrar la siguiente información del mismo: nombre, foto, precio, puntuación, colores, etiqueta (Top-ventas o Novedad), Caracteristicas del producto y nombre de productos relacionados.\n",
    "\n",
    "Por último, se le preguntará si quiere realizar otra búsqueda en cuyo caso se le mostrará nuevamente el menú con los objetos de la categoría seleccionada previamente para que pueda buscar nuevos objetos. Si no quiere buscar más, se saldrá de este menú , y se mostrará el menú principal.Nuevamente podrá buscar por otra opción o bien salir completamente del programa.\n",
    "\n",
    "__Buscar por etiqueta top-ventas o novedad__[2,5 puntos]\n",
    "\n",
    "Si elige esta opción se le mostrará un listado con 2 opciones:Top-ventas, y Novedad. Para facilitar la selección se asignará un número a cada etiqueta, de manera que el usuario elija por número.Una vez elegido una etiqueta, el programa mostrará una lista de todas las objetos que tienen asociada esa etiqueta (asignar un número a cada objeto para que sea más fácil elegir el objeto).  A continuación, el usuario elegirá un objeto y el programa deberá mostrar la siguiente información del mismo: nombre, foto, precio, puntuación, colores, etiqueta (Top-ventas o Novedad), Caracteristicas del producto y nombre de productos relacionados.\n",
    "\n",
    "Por último, se le preguntará si quiere realizar otra búsqueda en cuyo caso se le mostrará nuevamente el menú con los objetos de la etiqueta seleccionada previamente para que pueda buscar nuevos objetos. Si no quiere buscar más, se saldrá de este menú , y se mostrará el menú principal.Nuevamente podrá buscar por otra opción o bien salir completamente del programa.\n",
    "\n",
    "__Buscar por precio__[2,5 puntos]\n",
    "\n",
    "Si elige esta opción se le mostrará una caja de texto donde se le pregunte cuánto desea gastarse, de manera que el usuario introducirá una precio (puede ser un númeror decimal). El programa mostrára un listado con todos los objetos cuyo precio es igual o menor al dado (se muestra el nombre del objeteo y el precio), de manera que el usuario pueda seleccionar uno de los objetos para ver más información. Para facilitar la selección se asignará un número a cada objeto, de manera que el usuario elija por número.Una vez elegido un objeto, el programa deberá mostrar la siguiente información del mismo: nombre, foto, precio, puntuación, colores, etiqueta (Top-ventas o Novedad), Caracteristicas del producto y nombre de productos relacionados.\n",
    "\n",
    "Por último, se le preguntará si quiere realizar otra búsqueda en cuyo caso se le mostrará nuevamente el menú con los objetos recuperados previamente para que pueda buscar nuevos objetos. Si no quiere buscar más, se saldrá de este menú ,y se mostrará el menú principal.Nuevamente podrá buscar por otra opción o bien salir completamente del programa.\n",
    "\n",
    "__Buscar por descripción__[2,5 puntos]\n",
    "\n",
    "Si elige esta opción se le mostrará una caja de texto donde el usuario deberá introducir una o más palabras clave. El programa mostrára un listado con todos los objetos en los que alguna de las palabras clave introducidas por el usuario aparezcan en los textos sobre las características de producto, de manera que el usuario pueda seleccionar uno de los objetos para ver más información. Para facilitar la selección se asignará un número a cada objeto, de manera que el usuario elija por número.Una vez elegido un objeto, el programa deberá mostrar la siguiente información del mismo: nombre, foto, precio, puntuación, colores, etiqueta (Top-ventas o Novedad), Caracteristicas del producto y productos relacionados.\n",
    "\n",
    "Por último, se le preguntará si quiere realizar otra búsqueda en cuyo caso se le mostrará nuevamente el menú con los objetos recuperados previamente para que pueda buscar nuevos objetos. Si no quiere buscar más, se saldrá de este menú ,y se mostrará el menú principal.Nuevamente podrá buscar por otra opción o bien salir completamente del programa.\n",
    "\n",
    "Para hacer  los ejercicios, tened en cuenta:\n",
    "\n",
    "* En primer lugar, analizar la página donde se va recuperar la información, y buscar donde se encuentra la información que se necesita. Por ejemplo para el primer menú se analiza la página principal del sitio y se puede observar que la información que se busca está al principio de la página tal como se ve en la captura"
   ]
  },
  {
   "cell_type": "code",
   "execution_count": 3,
   "metadata": {},
   "outputs": [],
   "source": [
    "# from IPython.display import Image\n",
    "# Image(filename='Captura2.png')"
   ]
  },
  {
   "cell_type": "markdown",
   "metadata": {},
   "source": [
    "* A continuación, hay que analizar el código fuente de la página web para caracterizar donde se encuentra lo que se está buscando. Siguiendo con el ejemplo, se abriría el código fuente de la página principal y se debe buscar donde aparecen los enlaces que se ven en la visualización del html de la página principal. Localizada la información se debe que caracterizar en términos de etiquetas html que es lo que caracteriza a la información buscado. En este ejemplo, se puede comprobar que que los enlaces se encuentran dentro de la etiqueta \"</nav class=\"top_menu\">\"  la cual es única en toda la página. "
   ]
  },
  {
   "cell_type": "code",
   "execution_count": 4,
   "metadata": {
    "scrolled": true
   },
   "outputs": [],
   "source": [
    "# from IPython.display import Image\n",
    "# Image(filename='Captura3.png')"
   ]
  },
  {
   "cell_type": "markdown",
   "metadata": {},
   "source": [
    "* A continuación se puede usar BeautifulSoup para recuperar ese trozo de código, recuperar la información que se desee,y usarla para lo que sea necesario. Se puede observar que los enlaces a las páginas se encuentran en las anclas dentro de las etiquetas \"li\"."
   ]
  },
  {
   "cell_type": "code",
   "execution_count": 5,
   "metadata": {},
   "outputs": [],
   "source": [
    "# import urllib\n",
    "# from bs4 import BeautifulSoup\n",
    "# html=urllib.request.urlopen(\"https://caorema.com/\").read()\n",
    "# soup=BeautifulSoup(html, 'html.parser')\n",
    "# etiqueta=soup(\"nav\")\n",
    "# print (etiqueta)"
   ]
  },
  {
   "cell_type": "markdown",
   "metadata": {},
   "source": [
    "__Nota: Para realizar los procesamientos es obligatorio utilizar la libreria BeautifulSoup. No se pueden usar otras librerías__"
   ]
  },
  {
   "cell_type": "markdown",
   "metadata": {
    "collapsed": true
   },
   "source": [
    "# Normas de entrega\n",
    "\n",
    "* Fecha tope de entrega: 20/10/2022\n",
    "* La entrega se realizará subiendo al campus virtual un notebook de Jupyter con la solución. El archivo tendrá como nombre WebScraping_GrupoX donde X será el número de grupo correspondiente.\n"
   ]
  },
  {
   "cell_type": "code",
   "execution_count": 6,
   "metadata": {},
   "outputs": [],
   "source": [
    "from bs4 import BeautifulSoup\n",
    "import requests\n",
    "import re\n",
    "\n",
    "def mostrar_producto(url):\n",
    " \n",
    "    html = requests.get(url).content.decode(\"utf-8\")\n",
    "    soup = BeautifulSoup(html, 'html.parser')\n",
    "\n",
    "    # Sección de información del producto\n",
    "    info = soup.find(\"div\", class_ = \"summary entry-summary\")\n",
    "    nombre = info.find(\"h1\").contents[0]\n",
    "    valor_moneda = info.find(\"div\", class_ = \"woo-price-area\").find(\"p\").find(\"span\").find(\"bdi\").contents\n",
    "    precio = str(valor_moneda[0] + valor_moneda[1].contents[0])\n",
    "    puntuacion = info.find(\"div\", class_ = re.compile(\"score.\")).contents[0]\n",
    "    \n",
    "    colores = list()\n",
    "    # No todos los productos tienen el apartado de colores\n",
    "    try:\n",
    "        tabla_colores = info.find(\"div\", class_ = \"woo-button-area\").find(\"form\").find(\"table\").findAll(\"option\")\n",
    "        tabla_colores.pop(0)    # Eliminamos el primer elemento que contiene: \"Elige una opción\" para quedarnos solo con los colores\n",
    "        for color in tabla_colores:\n",
    "            colores.append(color.contents[0])\n",
    "    except:\n",
    "        pass\n",
    "\n",
    "    etiqueta = info.find(\"span\", class_ = re.compile(\"re-line-badge.\")).find(\"span\").contents[0]\n",
    "\n",
    "    # Sección de imagen\n",
    "    url_foto = soup.find(\"div\", class_ =\"woo-image-part\").find(\"figure\").find(\"a\").get(\"href\")\n",
    "    foto = Image(url_foto, width=500)\n",
    "    \n",
    "    # Sección de características del producto\n",
    "    caracteristicas = list()\n",
    "    caracts = soup.find(\"div\", class_=\"mt25\").find(\"div\", class_ = \"woocommerce-Tabs-panel--description\").findAll(\"li\")\n",
    "    for c in caracts:\n",
    "        # Algunas características están dentro de una subetiqueta span\n",
    "        if c.find(\"span\"):\n",
    "            caracteristicas.append(c.contents[0].contents[0])\n",
    "        \n",
    "        else:\n",
    "            caracteristicas.append(c.contents[0])\n",
    "    \n",
    "    # Sección de productos relacionados\n",
    "    seccion_relacionados = soup.find(\"div\", class_ = \"related-woo-area\")\n",
    "    productos_relacionados = list()\n",
    "    prods = seccion_relacionados.find(\"div\", class_ = \"woocommerce\").find(\"div\", class_ = \"products\").findAll(\"h3\")\n",
    "    \n",
    "    for prod in prods:\n",
    "        productos_relacionados.append(prod.find(\"a\").contents[0])\n",
    "    \n",
    "    display(foto)\n",
    "    sep = \"\\n\\t\\t- \"\n",
    "    print(f\"\"\"\n",
    "        Nombre: {nombre}\n",
    "        Precio: {precio}\n",
    "        Puntuación: {puntuacion}/10\n",
    "        Colores: {', '.join([str(x) for x in [*colores]]) or \"Único\"}\n",
    "        Etiqueta: {etiqueta}\n",
    "        Características: \\n\\t\\t- {sep.join([str(x) for x in [*caracteristicas]])}\n",
    "        Productos relacionados: \\n\\t\\t- {sep.join([str(x) for x in [*productos_relacionados]])}\n",
    "        \"\"\")"
   ]
  },
  {
   "cell_type": "code",
   "execution_count": 7,
   "metadata": {},
   "outputs": [],
   "source": [
    "def mostrar_menu(cosas):\n",
    "\n",
    "    i = 1\n",
    "    for c in cosas:\n",
    "        print(f\"{i} - {c[1]}\")\n",
    "        i += 1"
   ]
  },
  {
   "cell_type": "markdown",
   "metadata": {},
   "source": [
    "## 1.Buscar por categoría"
   ]
  },
  {
   "cell_type": "code",
   "execution_count": 8,
   "metadata": {},
   "outputs": [],
   "source": [
    "import requests\n",
    "from bs4 import BeautifulSoup\n",
    "import re\n",
    "from IPython.display import Image, display\n",
    "\n",
    "def get_categorias():\n",
    "\n",
    "    url=\"https://caorema.com/\"\n",
    "    html = requests.get(url).content.decode(\"utf-8\")\n",
    "    soup = BeautifulSoup(html, 'html.parser')\n",
    "    etiquetas=soup.findAll(\"nav\")\n",
    "    categorias = list(tuple())\n",
    "    \n",
    "    for etiqueta in etiquetas:\n",
    "        for i in range(2, len(etiqueta.contents[0].contents)-4, 2):\n",
    "            link = etiqueta.contents[0].contents[i].contents[0].get(\"href\")\n",
    "            words = link.split(\"/\")\n",
    "            nombre = words[-2].replace(\"-\", \" \").capitalize()\n",
    "            categorias.append((link, nombre))\n",
    "\n",
    "    return categorias\n",
    "\n",
    "\n",
    "\n",
    "def get_productos(categoria):\n",
    "    url = categoria\n",
    "    html = requests.get(url).content.decode(\"utf-8\")\n",
    "    soup = BeautifulSoup(html, 'html.parser')\n",
    "    etiquetas = soup.findAll(\"article\")\n",
    "    productos = list(tuple())\n",
    "    for etiqueta in etiquetas:\n",
    "        for e in etiqueta.findAll(\"li\"):\n",
    "            link = e.contents[1].get(\"href\", None)\n",
    "            nombre = e.contents[1].findAll(\"div\")[1].contents[0]\n",
    "            productos.append((link, nombre))\n",
    "    return productos\n",
    "\n",
    "def buscar_por_categoria():\n",
    "    \n",
    "    buscar_cat = True\n",
    "    while buscar_cat:\n",
    "        categorias = get_categorias()\n",
    "        mostrar_menu(categorias)\n",
    "        cat = int(input(\"Elija una categoría: \")) - 1\n",
    "        buscar_prod = True\n",
    "        while buscar_prod:\n",
    "            print(f\"\\nProductos de la categoría \\\"{categorias[cat][1]}\\\":\\n\")\n",
    "            productos = get_productos(categorias[cat][0])\n",
    "            mostrar_menu(productos)\n",
    "            prod = int(input(\"Elija un producto: \")) - 1\n",
    "            print(\"\\nInformación del producto seleccionado:\\n\")\n",
    "            mostrar_producto(productos[prod][0])\n",
    "\n",
    "            buscar_prod = input(\"¿Desea seguir consultando productos de esta categoría? (s/n): \") == \"s\"\n",
    "        buscar_cat = input(\"¿Desea consultar otras categorías? (s/n): \") == \"s\"\n",
    "\n"
   ]
  },
  {
   "cell_type": "markdown",
   "metadata": {},
   "source": [
    "## 2. Buscar por etiqueta top-ventas o novedad."
   ]
  },
  {
   "cell_type": "code",
   "execution_count": 9,
   "metadata": {},
   "outputs": [],
   "source": [
    "def buscar_por_etiqueta():\n",
    "    print(\"TODO\")"
   ]
  },
  {
   "cell_type": "markdown",
   "metadata": {},
   "source": [
    "## 3. Buscar por precio."
   ]
  },
  {
   "cell_type": "code",
   "execution_count": 10,
   "metadata": {},
   "outputs": [],
   "source": [
    "import requests\n",
    "from bs4 import BeautifulSoup\n",
    "\n",
    "content = requests.get(\"https://caorema.com/page/2/\").content.decode(\"utf-8\")\n",
    "\n",
    "def prod_nombre(producto) -> str:\n",
    "    return producto.find(\"h3\").find(\"a\").contents[0]\n",
    "\n",
    "def prod_precio(producto) -> float:\n",
    "    return float(producto.find(\"span\", class_=\"price\").find(\"bdi\").contents[0])\n",
    "\n",
    "def prod_link(producto) -> str:\n",
    "    return producto.find(\"h3\").find(\"a\").attrs[\"href\"]\n",
    "\n",
    "URL = \"https://caorema.com\"\n",
    "\n",
    "def buscar_por_precio():\n",
    "\n",
    "    max_price = float(input(\"Introduce un precio máximo: \"))\n",
    "\n",
    "    i = 1\n",
    "    prods = []\n",
    "    while True:\n",
    "\n",
    "        content = requests.get(URL + f\"/page/{i}\").content.decode(\"utf-8\")\n",
    "        page = BeautifulSoup(content, \"html.parser\")\n",
    "\n",
    "        new_prods = page.find_all(\"div\", class_=\"product\")\n",
    "\n",
    "        if len(new_prods) > 0:\n",
    "            prods.extend(new_prods)\n",
    "            i += 1\n",
    "\n",
    "        else: break \n",
    "\n",
    "    prods_baratos = [prod for prod in prods if prod_precio(prod) <= max_price]\n",
    "    \n",
    "\n",
    "    while True:\n",
    "        \n",
    "        for id, prod in enumerate(prods_baratos):\n",
    "            print(f\"    {id+1}: {prod_nombre(prod)} ({prod_precio(prod)}€)\")\n",
    "\n",
    "        opcion = int(input(\"Introduce una opción (0 para salir): \")) - 1\n",
    "\n",
    "        if opcion ==  -1:\n",
    "            break\n",
    "    \n",
    "        mostrar_producto(prod_link(prods_baratos[opcion]))\n",
    "        print(\"-------------------------------------------------------------------\")"
   ]
  },
  {
   "cell_type": "markdown",
   "metadata": {},
   "source": [
    "## 4. Buscar por descripción."
   ]
  },
  {
   "cell_type": "code",
   "execution_count": 18,
   "metadata": {},
   "outputs": [],
   "source": [
    "from importlib.resources import contents\n",
    "\n",
    "def filtro_palabras_clave(palabras, descripcion):\n",
    "\n",
    "    coincide = False\n",
    "    i = 0\n",
    "\n",
    "    while not coincide and i < len(palabras):\n",
    "\n",
    "        coincide = palabras[i] in descripcion\n",
    "        i += 1\n",
    "\n",
    "    return coincide\n",
    "\n",
    "def prod_descr(p: str):\n",
    "\n",
    "    url = prod_link(p)\n",
    "    page = requests.get(url).content.decode(\"utf-8\")\n",
    "    soup = BeautifulSoup(page, \"html.parser\")\n",
    "\n",
    "    # No todos los items tienen secripcion\n",
    "    descr = soup.find(\"div\", class_=\"woocommerce-product-details__short-description\")\n",
    "\n",
    "    if descr: return descr.find(\"p\").contents[0].lower()\n",
    "    else: return \"\"\n",
    "\n",
    "def buscar_por_descripcion():\n",
    "\n",
    "    palabras_clave = [p.lower().strip() for p in input(\"Introduce palabras clasve, separadas por comm\").split(\",\") ]\n",
    "\n",
    "    i = 1\n",
    "    prods = []\n",
    "    while True:\n",
    "\n",
    "        content = requests.get(URL + f\"/page/{i}\").content.decode(\"utf-8\")\n",
    "        page = BeautifulSoup(content, \"html.parser\")\n",
    "\n",
    "        new_prods = page.find_all(\"div\", class_=\"product\")\n",
    "\n",
    "        if len(new_prods) > 0:\n",
    "            prods.extend(new_prods)\n",
    "            i += 1\n",
    "\n",
    "        else: break \n",
    "\n",
    "    resumen_productos = [ (prod_nombre(p), prod_link(p)) for p in prods if filtro_palabras_clave(palabras_clave, prod_descr(p))]\n",
    "\n",
    "    while True:\n",
    "\n",
    "        for i, p in enumerate(resumen_productos):\n",
    "            print(f\"{i+1}: {p[0]}\")\n",
    "        \n",
    "        opcion = int(input(\"Introduce una opción (0 para salir\"))\n",
    "\n",
    "        if opcion == 0: break\n",
    "        else: mostrar_producto(resumen_productos[opcion - 1][1])"
   ]
  },
  {
   "cell_type": "markdown",
   "metadata": {},
   "source": [
    "## 5. Menu principal."
   ]
  },
  {
   "cell_type": "code",
   "execution_count": null,
   "metadata": {},
   "outputs": [],
   "source": [
    "def menu_principal():\n",
    "    \n",
    "    while True:\n",
    "        print(\"1: Buscar por categoría.\")\n",
    "        print(\"2: Buscar por etiqueta.\")\n",
    "        print(\"3: Buscar por precio.\")\n",
    "        print(\"4: Buscar por descripción.\")\n",
    "        print(\"0: Salir.\")\n",
    "\n",
    "        opcion = int(input(\"Introduzca una opción\"))\n",
    "        \n",
    "        if opcion == 0: break\n",
    "\n",
    "        elif opcion == 1: buscar_por_categoria()\n",
    "        elif opcion == 2: buscar_por_etiqueta()\n",
    "        elif opcion == 3: buscar_por_precio()\n",
    "        elif opcion == 4: buscar_por_descripcion()\n",
    "\n",
    "menu_principal()"
   ]
  }
 ],
 "metadata": {
  "kernelspec": {
   "display_name": "Python 3.10.6 ('venv': venv)",
   "language": "python",
   "name": "python3"
  },
  "language_info": {
   "codemirror_mode": {
    "name": "ipython",
    "version": 3
   },
   "file_extension": ".py",
   "mimetype": "text/x-python",
   "name": "python",
   "nbconvert_exporter": "python",
   "pygments_lexer": "ipython3",
   "version": "3.10.6"
  },
  "vscode": {
   "interpreter": {
    "hash": "eebe8d64ae1036b995a1dcd3f268417a62583c302120912711acd4d49bce5e6a"
   }
  }
 },
 "nbformat": 4,
 "nbformat_minor": 2
}
