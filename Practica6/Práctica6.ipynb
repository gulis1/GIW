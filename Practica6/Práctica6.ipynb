{
 "cells": [
  {
   "cell_type": "markdown",
   "metadata": {},
   "source": [
    "### Práctica sobre APIs"
   ]
  },
  {
   "cell_type": "markdown",
   "metadata": {},
   "source": [
    "Se va a explotar la API REST VACCOVID - coronavirus, vaccine and treatment tracker que se encuentra en:\n",
    "\n",
    "https://rapidapi.com/vaccovidlive-vaccovidlive-default/api/vaccovid-coronavirus-vaccine-and-treatment-tracker/\n",
    "\n",
    "Lo primero que se debe hacer es registrarse en el siguiente enlace:\n",
    "https://rapidapi.com/auth/sign-up?referral=/hub\n",
    "\n",
    "Una vez registrado y autenticado en la API REST se puede volver al endpoint donde se podrán ver los diferentes grupos de funcionalidad tales como:\n",
    "\n",
    "* covid-19 APIs\n",
    "\n",
    "* Vaccine and Treatments APIs\n",
    "\n",
    "* News\n",
    "\n",
    "En cada grupo se encuentran definidos varios conjuntos de servicios. Cuando se selecciona un servicio aparece la forma de invocar dicho servicio. En particular hay una pestaña en la pantalla denominada \"Code Snippets\" donde se puede encontrar el código para hacer uso del servicio en diferentes lenguajes de programación. Para ello , se busca en el desplegable. En este caso, se busca Python, y entre las opciones que ofrece se selecciona la opción \"requests\". Como resultado, se muestra el código en Python. Por ejemplo, si se quiere recuperar las estadísticas de covid-19 de los últimos 6 meses de Estados Unidos, bastaría pulsar sobre covid-19 APIs y allí sobre el servicio \"get the covid-19 stats for the past six months of one country\".En el marco que hay al lado del menú, se configura la api, y se rellena el apartado \"Required Parameters\" introduciendo el valor de id igual a \"USA\". En la pestaña \"Code Snippets\" se busca el lenguaje Python, y se selecciona la versión \"requests\". Entonces aparece el siguiente código:"
   ]
  },
  {
   "cell_type": "code",
   "execution_count": null,
   "metadata": {},
   "outputs": [],
   "source": [
    "# import requests\n",
    "\n",
    "# url = \"https://vaccovid-coronavirus-vaccine-and-treatment-tracker.p.rapidapi.com/api/covid-ovid-data/sixmonth/USA\"\n",
    "\n",
    "# headers = {\n",
    "# \t\"X-RapidAPI-Key\": \"4d136bbbafmshcef7c38206f927dp13110djsnb1ce888ae541\",\n",
    "# \t\"X-RapidAPI-Host\": \"vaccovid-coronavirus-vaccine-and-treatment-tracker.p.rapidapi.com\"\n",
    "# }\n",
    "\n",
    "# response = requests.request(\"GET\", url, headers=headers)\n",
    "\n",
    "# print(response.text)"
   ]
  },
  {
   "cell_type": "markdown",
   "metadata": {},
   "source": [
    "Al ejecutarse nos devuelve una cadena que representa un cadena json.\n",
    "\n",
    "Observar que en la invocación de la API aparece una clave de acceso \"x-rapidapi-key\". Esta clave es exclusiva de cada usuario. Por cada grupo, basta que un de los componentes se registre en la aplicación. No hace falta que os registréis todos.\n",
    "\n",
    "Se pide crear una aplicación que explote la información de la API. Para ello se creará un conjunto de consultas en forma de menú:\n",
    " \n",
    " * __Opción 1__: Recuperar las estadísticas sobre casos de covid-19 de los últimos 6 meses de todos los paises. Para mostrar de forma amigable la información, se mostrará un primer menú en la que solo aparecerán los nombres de los continentes (campo \"Continent\"). Cuando el usuario elija un continente, le aparecerá un nuevo menú con los paises (campo \"Country\") de ese continente. A continuación, elegido un pais, se mostrará la siguiente información del pais: total_cases, new_cases, total_deaths,new_deaths,total_tests, new_tests. Por ejemplo si se elige \"Europe\"--> \"Romania\", se mostraría como resultado:\n",
    "\n",
    "  'total_cases': 1090925,\n",
    "  \n",
    "  'new_cases': 517,\n",
    "  \n",
    "  'total_deaths': 34412,\n",
    "  \n",
    "  'new_deaths': 9,\n",
    "  \n",
    "  'total_tests': 11190628\n",
    "  \n",
    "   A continuación se le preguntará si quiere volver a realizar una búsqueda, y en tal caso se vuelve al menú de la opción 1. En caso contrario finaliza la opción 1, y se vuelve al menú principal.\n",
    "\n",
    "   Observar que tendréis que usar el servicio:\n",
    "\n",
    "   __get the covid-19 stats for the past six months of all countries__\n",
    "   \n",
    " \n",
    " * __Opción 2__: Recuperar toda la información de los tratamientos y vacunas. Para mostrar de forma amigable la información, se mostrará un primer menú en la que solo aparecerán dos opciones: \"Vaccine\" o \"Treatment\". Elegida una opción, se mostrará un menú que mostrará los nombres de todas las categorias de vacunas o tratamientos (campo trimedCategory) dependiendo lo que se haya elegido anteriormente. Elegida una categoría, se mostrara un nuevo menú con todos los nombres de los laboratorios de esa categoria(campo developerResearcher). Por último, elegido un laboratorio,se mostrará toda la información acerca de la misma. Por ejemplo, si se elige Vaccine-->antibodies-->CSL Behring / SAb Biotherapeutics, se mostrará:\n",
    " \n",
    "  'developerResearcher': 'CSL Behring / SAb Biotherapeutics',\n",
    "  \n",
    "  'trimedName': 'csl-behring-sab-biotherapeutics',\n",
    "  \n",
    "  'phase': 'Phase III',\n",
    "  \n",
    "  'nextSteps': 'Phase I starts early summer 2020; Dosing… [+114]',\n",
    "  \n",
    "  'description': 'SAB-185, Polyclonal hyperimmune globulin… [+7]',\n",
    "  \n",
    "  'funder': 'Biomedical Advanced Research and Develop… [+48]',\n",
    "\n",
    "   A continuación se le preguntará si quiere volver a realizar una búsqueda, y en tal caso se vuelve al menú de la opción 2. En caso contrario finaliza la opción 2, y se vuelve al menú principal.\n",
    "\n",
    "   Observar que tendréis que usar los servicios:\n",
    "\n",
    "   __get all trimed names, categories and kinds__\n",
    "    \n",
    "   __get all treatments for specific category__\n",
    "\n",
    "   __get all vaccines for specific category__\n",
    "   \n",
    " \n",
    " * __Opción 3__: Recuperar todas las noticias sobre covid19. Se le mostrará al usuario un menú con las diferentes fuentes de información (campo reference). Elegida una fuente de información, se le mostrara un menú con un listado de los títulos (campo title) de las noticias de esa fuente. Elegido un título de una noticia, se mostrará el campo contenido (content) asociado a la noticia. A continuación, se le preguntará si se desea ver la página de la noticia. Si selecciona que \"sí\" entonces se lanzará un navegador con la página web (link) asociada a la noticia. Por ejemplo si se elige:\n",
    " \n",
    " google-news-au-->'A thousand days of COVID-19: How the pandemic unfolded in Australia'\n",
    " \n",
    " Entonces se mostrará:\n",
    "\n",
    "  On January 20, 2020, the smoke was still clearing from the intense bushfires that had ravaged the country. The east coast had been battered by intense hailstorms and flash flooding. And an obscure… [+49 chars]\n",
    "\n",
    "  Y si se elige visulizar la noticia se lanzará la página: \n",
    "\n",
    "  \"https://www.9news.com.au/national/1000-days-of-covid19-in-australia-timeline-how-coronavirus-spread-lockdown-australian-covid-news/11aabbd5-e0d5-4f54-852f-88fc59934045\"\n",
    "  \n",
    "  A continuación se le preguntará si quiere volver a realizar una búsqueda, y en tal caso se vuelve al menú de la opción 3. En caso contrario finaliza la opción 3, y se vuelve al menú principal.\n",
    "  \n",
    "  Observar que tendréis que usar el servicio:\n",
    "\n",
    "   __get all coronavirus news__\n",
    " \n",
    " * __Opción 4__: Recuperacion de información específica de vacunas. Para ello se le mostrará un menú con los nombres de todas las vacunas (trimedName). Elegida una vacuna, entonces se deberá mostrar toda la información acerca de esa vacuna. Para ello además del nombre, se necesita la categoría de la vacuna y consultar el servicio \"get specific vaccine data\". Por ejemplo si se elige \"biontech-pfizer-fosun-pharma-rentschler-biopharma\". Esta vacuna tiene asociada como categoria \"rna-based-vaccine\". Así la información que se mostraría sería:\n",
    " \n",
    " 'vaccine_id': '5d657d09-ca80-4b34-b8ab-79ef4fe09c7f',\n",
    " \n",
    " 'developerResearcher': 'OSE  Immunotherapeutics/ Cenexi',\n",
    " \n",
    " 'trimedName': 'ose-immunotherapeutics-cenexi',\n",
    " \n",
    " 'treatmentVsVaccine': 'Vaccine',\n",
    " \n",
    " 'category': 'Protein subunit',\n",
    " \n",
    " 'trimedCategory': 'protein-subunit',\n",
    " \n",
    " 'phase': 'Phase I',\n",
    " \n",
    " 'nextSteps': 'First positive results announced 11/30/21; Phase I began May 2021; Pre-clinical results  released in August 2020. Positive results released December 2021.',\n",
    " \n",
    " 'description': 'T cell-based vaccine platform (CoVepiT)',\n",
    " \n",
    " 'clinicalTrialsForCovid19': 'NCT04885361',\n",
    " \n",
    " 'funder': 'undefined',\n",
    " \n",
    " 'publishedResults': ['https://www.ose-immuno.com/wp-content/uploads/2021/11/EN_211130_CoVepiT-Update.pdf',\n",
    "  'https://www.ose-immuno.com/wp-content/uploads/2021/11/EN_211130_CoVepiT-Update.pdf'],\n",
    "  \n",
    " 'clinicalTrialsForOtherDiseases': 'undefined',\n",
    " \n",
    " 'FDAApproved': 'undefined',\n",
    " \n",
    " 'lastUpdated': '2021-12-09T00:00:00.000Z'\n",
    " \n",
    "  A continuación se le preguntará si quiere volver a realizar una búsqueda, y en tal caso se vuelve al menú de la opción 4. En caso contrario finaliza la opción 4, y se vuelve al menú principal.\n",
    "  \n",
    "     Observar que tendréis que usar los servicios:\n",
    "\n",
    "   __get all vaccines__\n",
    "    \n",
    "   __get specific vaccine data__\n",
    "\n",
    " * __Opción 5__: Salir."
   ]
  },
  {
   "cell_type": "markdown",
   "metadata": {},
   "source": [
    "## Normas de entrega\n",
    "\n",
    "* Fecha tope de entrega: 27/10/2021\n",
    "* La entrega se realizará subiendo al campus virtual un notebook de Jupyter con la solución. El archivo tendrá como nombre DesarrolloWeb_GrupoX donde X será el número de grupo correspondiente."
   ]
  },
  {
   "cell_type": "code",
   "execution_count": 11,
   "metadata": {},
   "outputs": [],
   "source": [
    "import json\n",
    "from wsgiref import headers\n",
    "import requests\n",
    "\n",
    "API_URL = \"https://vaccovid-coronavirus-vaccine-and-treatment-tracker.p.rapidapi.com/api\"\n",
    "\n",
    "def nueva_sesion(filename: str) -> requests.Session:\n",
    "\n",
    "    credenciales = json.load(open(filename))\n",
    "    \n",
    "    sesion = requests.Session()\n",
    "    sesion.headers.update(credenciales)\n",
    "\n",
    "    return sesion\n",
    "\n",
    "sesion = nueva_sesion(\"./credentials.json\")"
   ]
  },
  {
   "cell_type": "markdown",
   "metadata": {},
   "source": [
    "## Ejercicio 1.\n"
   ]
  },
  {
   "cell_type": "code",
   "execution_count": null,
   "metadata": {},
   "outputs": [],
   "source": [
    "paises\n",
    "\n"
   ]
  }
 ],
 "metadata": {
  "kernelspec": {
   "display_name": "Python 3.10.4 64-bit",
   "language": "python",
   "name": "python3"
  },
  "language_info": {
   "codemirror_mode": {
    "name": "ipython",
    "version": 3
   },
   "file_extension": ".py",
   "mimetype": "text/x-python",
   "name": "python",
   "nbconvert_exporter": "python",
   "pygments_lexer": "ipython3",
   "version": "3.10.4"
  },
  "vscode": {
   "interpreter": {
    "hash": "916dbcbb3f70747c44a77c7bcd40155683ae19c65e1c03b4aa3499c5328201f1"
   }
  }
 },
 "nbformat": 4,
 "nbformat_minor": 2
}
