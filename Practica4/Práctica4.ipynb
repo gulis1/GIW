{
 "cells": [
  {
   "cell_type": "markdown",
   "metadata": {},
   "source": [
    "### Práctica de Acceso a bases de datos"
   ]
  },
  {
   "attachments": {},
   "cell_type": "markdown",
   "metadata": {},
   "source": [
    "Considerar una base de datos sobre diferentes índices bursátiles formada por las siguientes tablas:\n",
    "\n",
    "__Tabla \"Datos generales\"__:\n",
    "\n",
    "* Ticker (Valor único) Cadena\t\n",
    "* Nombre Cadena\t\n",
    "* Índice Cadena\t\n",
    "* País Cadena\t\t\n",
    "\n",
    "__Tabla \"IBEX35\"__:\n",
    "\n",
    "* TKR (Valor único y hace referencia al campo Ticker de la tabla Datos generales)  Cadena\t\n",
    "* Precio Decimal\n",
    "* Var.(%) Decimal\n",
    "* Var.(€) Decimal\n",
    "* Máx. Decimal\n",
    "* Mín. Decimal\n",
    "* Volumen Entero\n",
    "\n",
    "__Tabla \"DAX30\"__:\n",
    "\n",
    "* TKR (Valor único y hace referencia al campo Ticker de la tabla Datos generales)  Cadena\t\n",
    "* Precio Decimal\n",
    "* Var.(%) Decimal\n",
    "* Var.(€) Decimal\n",
    "* Máx. Decimal\n",
    "* Mín. Decimal\n",
    "* Volumen Entero\n",
    "\n",
    "__Tabla \"NASDAQ100\"__:\n",
    "\n",
    "* TKR (Valor único y hace referencia al campo Ticker de la tabla Datos generales)  Cadena\t\n",
    "* Precio Decimal\n",
    "* Var.(%) Decimal\n",
    "* Var.(€) Decimal\n",
    "* Máx. Decimal\n",
    "* Mín. Decimal\n",
    "* Volumen Entero\n",
    "\n",
    "__Tabla \"FTSE_MIB\"__:\n",
    "\n",
    "* TKR (Valor único y hace referencia al campo Ticker de la tabla Datos generales)  Cadena\t\n",
    "* Precio Decimal\n",
    "* Var.(%) Decimal\n",
    "* Var.(€) Decimal\n",
    "* Máx. Decimal\n",
    "* Mín. Decimal\n",
    "* Volumen Entero\n",
    "\n",
    "__Tabla \"SemanalesIBEX35\"__:\n",
    "\n",
    "* Ticker (Valor único y hace referencia al campo Ticker de la tabla Datos generales)  Cadena\t\n",
    "* Fecha Cadena\n",
    "* Price Decimal\n",
    "* Low Decimal\n",
    "* High Decimal\n",
    "\n",
    "Los datos de las tablas se encuentran en los archivos csv \"Tabla1.csv\", \"Tabla2(IBEX35).csv\", \"Tabla3(DAX30).csv\", \"Tabla4(Nasdaq 100).csv\", \"Tabla5(Ftse Mib).csv\" y \"Tabla6(SemanalesIBEX35).csv\".La tabla 1 contiene datos identificativos de cada acción, las tablas 2-5 son los resultados de la cotización el día 5 de octubre de 2022, y la tabla 6 son datos históricos de las acciones del IBEX35.\n",
    "\n",
    "Se pide:\n",
    "1.  Hacer una función que cree la base de datos \"Bolsa\" con sus tablas y datos correspondientes. Para ello habrá que procesar los archivos csv proporcionados. Tomar las decisiones necesarias para relacionar adecuadamente las tablas, así como restricciones en cuanto a unicidad o tipos de datos. Igualmente procesad adecuadamente el campo fecha de la tabla \"SemanalesIBEX35\" para poder utilizarlo en las consultas (3 puntos).\n",
    "\n",
    "2.  Resolver las siguientes consultas(7 puntos):\n",
    "\n",
    "  >2.1. Considerar la máxima diferencia entre el valor máximo y el valor mínimo de las acciones de todos los índices. Mostrar el nombre de la/s acción/es cuya diferencia alcanza ese valor, el nombre del índice al que pertenece y el valor de la diferencia tomada.\n",
    "\n",
    "  >2.2. Obtener la suma de los volúmenes negociados agregados por el índice al que pertenecen y ordenados de mayor a menor. Se mostrará el nombre del índice, el país al que pertenece y la suma de los volúmenes del índice.\n",
    "\n",
    "  >2.3. Obtener aquellas acciones cuyo variación entre el máximo y el mínimo en la jornada del 5 de octubre fue menor que la variación entre el valor low y high en la serie histórica. Mostrar el nombre de la acción y las diferencias.\n",
    "\n",
    "  >2.4. Obtener la media de los valores de las acciones de la serie histórica del IBEX35 ordenadas decrecientemente por la media de los valores.\n",
    "\n",
    "  >2.5. Obtener la acción que más valió y más volumen de títulos negoció en la jornada del 5 de octubre. Mostrar el nombre de la acción, el índice al que pertenece y el país.\n",
    "\n",
    "  >2.6. Obtener las diferencias de precio entre cada par de acciones en la serie histórica del IBEX35 por fecha. Mostrar el nombre de las accciones, la fecha y la diferencia de valor ordenadas decrecientemente por la fecha.\n",
    "\n",
    "  >2.7. ¿En que fecha de la serie histórica del IBEX35 hubo más acciones donde la diferencia entre el valor máximo y el precio final fue 0?\n",
    "  Mostrar los nombres de las acciones y la fecha.\n",
    "  \n",
    "#### Normas de entrega\n",
    "\n",
    "* Fecha tope de entrega: 13/10/2022\n",
    "* La entrega se realizará subiendo al campus virtual un notebook de Jupyter con la solución. El archivo tendrá como nombre BasesDatos_GrupoX donde X será el número de grupo correspondiente.\n"
   ]
  },
  {
   "cell_type": "markdown",
   "metadata": {},
   "source": [
    "\n",
    "__Tabla \"IBEX35\"__:\n",
    "\n",
    "* TKR (Valor único y hace referencia al campo Ticker de la tabla Datos generales)  Cadena\t\n",
    "* Precio Decimal\n",
    "* Var.(%) Decimal\n",
    "* Var.(€) Decimal\n",
    "* Máx. Decimal\n",
    "* Mín. Decimal\n",
    "* Volumen Entero"
   ]
  },
  {
   "cell_type": "code",
   "execution_count": 8,
   "metadata": {},
   "outputs": [
    {
     "name": "stdout",
     "output_type": "stream",
     "text": [
      "Creada tabla IBEX35: 35 filas cargadas\n",
      "Creada tabla DAX30: 35 filas cargadas\n",
      "Creada tabla Nasdaq100: 100 filas cargadas\n",
      "Creada tabla FtseMib: 37 filas cargadas\n",
      "Creada tabla Datos: 212 filas cargadas\n",
      "Creada tabla SemanalesIBEX35: 1785 filas cargadas\n"
     ]
    }
   ],
   "source": [
    "import sqlite3\n",
    "import os\n",
    "\n",
    "#Eliminar base de datos si ya existe antes de ejecutar este código (si no da error de que ya existe)\n",
    "\n",
    "def login(dbfile):\n",
    "    conn = sqlite3.connect(dbfile)\n",
    "    curs = conn.cursor()\n",
    "\n",
    "    return conn, curs\n",
    "\n",
    "def load1(curs: sqlite3.Cursor, table, datafile, conn=None, verbose=True):\n",
    "    \n",
    "    file = open(datafile) # x,x,x\\nx,x,x\\n\n",
    "\n",
    "    curs.execute(f\"\"\"CREATE TABLE {table} (\n",
    "                     tkr text PRIMARY KEY,\n",
    "                     precio real NOT NULL,\n",
    "                     var_p real NOT NULL,\n",
    "                     var_e real NOT NULL,\n",
    "                     max_v real NOT NULL,\n",
    "                     min_v real NOT NULL,\n",
    "                     vol integer NOT NULL);\n",
    "     \"\"\")\n",
    "\n",
    "    rows = [line.rstrip().split(';') for line in file.readlines()[1:]] # [[x,x,x], [x,x,x]]\n",
    "    rows = [str(tuple(rec)) for rec in rows] # [\"(x,x,x)\", \"(x,x,x)\"]\n",
    "    \n",
    "    for recstr in rows[1:]:\n",
    "        curs.execute('insert into ' + table + ' values ' + recstr)\n",
    "\n",
    "    if conn: conn.commit()\n",
    "    if verbose: print (f\"Creada tabla {table}: {len(rows)} filas cargadas\")\n",
    "    file.close()\n",
    "\n",
    "\n",
    "def load2(curs: sqlite3.Cursor, table, datafile, conn=None, verbose=True):\n",
    "    \n",
    "    file = open(datafile) # x,x,x\\nx,x,x\\n\n",
    "\n",
    "    curs.execute(f\"\"\"CREATE TABLE {table} (\n",
    "                     tkr text PRIMARY KEY,\n",
    "                     nombre text NOT NULL,\n",
    "                     indice text NOT NULL,\n",
    "                     pais text NOT NULL);\n",
    "     \"\"\")\n",
    "    \n",
    "    rows = [line.rstrip().split(';') for line in file.readlines()[1:]] # [[x,x,x], [x,x,x]]\n",
    "    rows = [str(tuple(rec)) for rec in rows] # [\"(x,x,x)\", \"(x,x,x)\"]\n",
    "    \n",
    "    for recstr in rows[1:]:\n",
    "        curs.execute('insert into ' + table + ' values ' + recstr)\n",
    "\n",
    "    if conn: conn.commit()\n",
    "    if verbose: print (f\"Creada tabla {table}: {len(rows)} filas cargadas\")\n",
    "    file.close()\n",
    "\n",
    "def load3(curs: sqlite3.Cursor, table, datafile, conn=None, verbose=True):\n",
    "    \n",
    "    file = open(datafile) # x,x,x\\nx,x,x\\n\n",
    "\n",
    "    curs.execute(f\"\"\"CREATE TABLE {table} (\n",
    "                     id integer PRIMARY KEY,\n",
    "                     tkr text NOT NULL,\n",
    "                     fecha text NOT NULL,\n",
    "                     precio real NOT NULL,\n",
    "                     low real NOT NULL,\n",
    "                     high real NOT NULL);\n",
    "     \"\"\")\n",
    "    column_names = str(tuple(file.readline().rstrip().split(';')))\n",
    "    rows = [line.rstrip().split(';') for line in file.readlines()] # [[x,x,x], [x,x,x]]\n",
    "\n",
    "    for row in rows: \n",
    "        row[1] = row[1].split(\" \")[0]\n",
    "    rows = [str(tuple(rec)) for rec in rows] # [\"(x,x,x)\", \"(x,x,x)\"]\n",
    "    \n",
    "    for recstr in rows[1:]:\n",
    "        curs.execute(f'insert into {table}{column_names} values {recstr}')\n",
    "\n",
    "    if conn: conn.commit()\n",
    "    if verbose: print (f\"Creada tabla {table}: {len(rows)} filas cargadas\")\n",
    "    file.close()\n",
    "\n",
    "conn, curs = login(\"db.sqlite3\")\n",
    "load1(curs, \"IBEX35\", \"Tabla2(IBEX35).csv\", conn)\n",
    "load1(curs, \"DAX30\", \"./Tabla3(DAX 30).csv\", conn)\n",
    "load1(curs, \"Nasdaq100\", \"./Tabla4(Nasdaq 100).csv\", conn)\n",
    "load1(curs, \"FtseMib\", \"./Tabla5(Ftse Mib).csv\", conn)\n",
    "\n",
    "load2(curs, \"Datos\", \"./Tabla1.csv\", conn)\n",
    "\n",
    "load3(curs, \"SemanalesIBEX35\", \"./Tabla6(SemanalesIBEX35).csv\", conn)\n"
   ]
  },
  {
   "cell_type": "code",
   "execution_count": 9,
   "metadata": {},
   "outputs": [],
   "source": [
    "def logout(conn, curs): #Cierra la base de datos, haciendo antes un commit\n",
    "    curs.close()\n",
    "    conn.commit()\n",
    "    conn.close()\n",
    "\n",
    "logout(conn, curs)"
   ]
  },
  {
   "cell_type": "code",
   "execution_count": 20,
   "metadata": {},
   "outputs": [
    {
     "name": "stdout",
     "output_type": "stream",
     "text": [
      "Nombre: INTU\n",
      "Índice: Nasdaq 100\n",
      "Valor: 412.65\n",
      "\n"
     ]
    }
   ],
   "source": [
    "# Consulta 1\n",
    "# Considerar la máxima diferencia entre el valor máximo y el valor mínimo de las acciones de todos los índices.\n",
    "# Mostrar el nombre de la/s acción/es cuya diferencia alcanza ese valor, el nombre del índice al que pertenece \n",
    "# y el valor de la diferencia tomada.\n",
    "\n",
    "conn, curs = login(\"db.sqlite3\")\n",
    "\n",
    "consulta1 = \"\"\" SELECT  tkr, indice, MAX(max_v-min_v) FROM\n",
    "                    Datos JOIN\n",
    "                        (SELECT tkr AS indices_tkr, max_v, min_v FROM \n",
    "                            (SELECT * FROM DAX30 \n",
    "                            UNION SELECT * FROM FtseMib \n",
    "                            UNION SELECT * FROM IBEX35 \n",
    "                            UNION SELECT * FROM Nasdaq100))\n",
    "                    ON Datos.tkr = indices_tkr\"\"\"\n",
    "curs.execute(consulta1)\n",
    "for nombre, indice, valor in curs.fetchall():\n",
    "    print (f\"Nombre: {nombre}\\nÍndice: {indice}\\nValor: {valor}\\n\")\n",
    "\n",
    "logout(conn, curs)"
   ]
  },
  {
   "cell_type": "code",
   "execution_count": 19,
   "metadata": {},
   "outputs": [
    {
     "name": "stdout",
     "output_type": "stream",
     "text": [
      "Índice: IBEX 35\n",
      "País: EspaÃ±a\n",
      "Suma de los volúmenes: 185598636\n",
      "\n",
      "Índice: Ftse Mib\n",
      "País: Italia\n",
      "Suma de los volúmenes: 390082923\n",
      "\n",
      "Índice: Nasdaq 100\n",
      "País: USA\n",
      "Suma de los volúmenes: 835355501\n",
      "\n"
     ]
    }
   ],
   "source": [
    "# Consulta 2\n",
    "# Obtener la suma de los volúmenes negociados agregados por el índice al que pertenecen y ordenados de mayor a menor. \n",
    "# Se mostrará el nombre del índice, el país al que pertenece y la suma de los volúmenes del índice.\n",
    "conn, curs = login(\"db.sqlite3\")\n",
    "\n",
    "consulta2 = \"\"\" SELECT indice, pais, SUM(vol) AS suma FROM \n",
    "                    (SELECT * FROM Datos JOIN\n",
    "                        (SELECT tkr AS indices_tkr, * FROM \n",
    "                            (SELECT * FROM DAX30 \n",
    "                            UNION SELECT * FROM FtseMib \n",
    "                            UNION SELECT * FROM IBEX35 \n",
    "                            UNION SELECT * FROM Nasdaq100))\n",
    "                    ON Datos.tkr = indices_tkr)\n",
    "                GROUP BY indice ORDER BY suma\"\"\"\n",
    "curs.execute(consulta2)\n",
    "for indice, pais, suma in curs.fetchall():\n",
    "    print (f\"Índice: {indice}\\nPaís: {pais}\\nSuma de los volúmenes: {suma}\\n\")\n",
    "\n",
    "#Nota: la tabla 3 (DAX30) contiene probablemente por error valores del IBEX 35\n",
    "\n",
    "logout(conn, curs)"
   ]
  },
  {
   "cell_type": "code",
   "execution_count": null,
   "metadata": {},
   "outputs": [],
   "source": [
    "# Consulta 3\n",
    "# Obtener aquellas acciones cuyo variación entre el máximo y el mínimo en la jornada del 5 de octubre fue menor \n",
    "# que la variación entre el valor low y high en la serie histórica. Mostrar el nombre de la acción y las diferencias.\n",
    "\n",
    "conn, curs = login(\"db.sqlite3\")\n",
    "consulta1 = \"\"\" hola\"\"\"\n",
    "curs.execute(consulta1)\n",
    "for nombre, indice, valor in curs.fetchall():\n",
    "    print (f\"Nombre: {nombre}\\n Índice: {indice}\\n Valor: {valor}\")\n",
    "\n",
    "logout(conn, curs)"
   ]
  },
  {
   "cell_type": "code",
   "execution_count": 12,
   "metadata": {},
   "outputs": [
    {
     "name": "stdout",
     "output_type": "stream",
     "text": [
      "[('ACCIONA', 173.29), ('AENA', 135.06), ('PHARMA MAR', 62.08), ('LABORATORIOS FARMACEUTICOS ROV', 60.1), ('AMADEUS', 56.37), ('CELLNEX TELECOM', 42.94), ('CRP ACC ENER RN BR', 33.75), ('NATURGY ENERGY', 26.08), ('ARCELORMITTAL', 25.92), ('FLUIDRA', 24.88), ('FERROVIAL', 24.73), ('INDITEX', 24.02), ('ACS', 22.78), ('ENAGAS', 19.24), ('ENDESA', 18.49), ('SOLARIA ENERGIA Y MEDIO AMBIEN', 18.39), ('RED ELECTRICA', 17.82), ('SIEMENS GAMESA', 17.65), ('GRIFOLS CL.A', 15.67), ('REPSOL', 11.67), ('ACERINOX SA', 9.88), ('IBERDROLA', 9.63), ('MERLIN PROPERTIES', 9.24), ('INDRA SISTEMAS', 8.92), ('INMOBILIARIA COLONIAL', 6.92), ('MELIA HOTELS', 5.86), ('BANKINTER', 4.61), ('BANCO DE BILBAO VIZCAYA', 4.55), ('TELEFONICA', 3.65), ('CAIXABANK', 2.51), ('BANCO SANTANDER', 2.41), ('SACYR VALLEHERMOSO', 1.98), ('IAG GROUP', 1.06), ('MAPFRE', 1.02), ('BANCO DE SABADELL', 0.0)]\n"
     ]
    }
   ],
   "source": [
    "# Consulta 4\n",
    "# Obtener la media de los valores de las acciones de la serie histórica del IBEX35 ordenadas decrecientemente por la media de los valores\n",
    "\n",
    "#conn, curs = login(\"db.sqlite3\")\n",
    "\n",
    "curs.execute(\"\"\"SELECT nombre, round(AVG(precio), 2) AS Media\n",
    "FROM SemanalesIBEX35 s JOIN Datos d ON s.tkr==d.tkr\n",
    "GROUP BY s.tkr\n",
    "ORDER BY Media DESC;\"\"\").fetchall()\n",
    "\n",
    "#logout(conn, curs)"
   ]
  },
  {
   "cell_type": "code",
   "execution_count": 4,
   "metadata": {},
   "outputs": [
    {
     "data": {
      "text/plain": [
       "98458233"
      ]
     },
     "execution_count": 4,
     "metadata": {},
     "output_type": "execute_result"
    }
   ],
   "source": [
    "#Consulta 5\n",
    "#Obtener la acción que más valió y más volumen de títulos negoció en la jornada del 5 de octubre. Mostrar el nombre de la acción, el índice al que pertenece y el país.\n",
    "#TODO\n",
    "\n",
    "curs.execute(\"\"\"SELECT max(max_vol)\n",
    "                FROM (SELECT max(vol) as max_vol\n",
    "                        FROM IBEX35\n",
    "                        UNION\n",
    "                        SELECT max(vol)\n",
    "                        FROM DAX30\n",
    "                        UNION\n",
    "                        SELECT max(vol)\n",
    "                        FROM Nasdaq100\n",
    "                        UNION\n",
    "                        SELECT max(vol)\n",
    "                        FROM FtseMib);\"\"\").fetchone()[0]\n",
    "\n",
    "#curs.close()"
   ]
  },
  {
   "cell_type": "code",
   "execution_count": null,
   "metadata": {},
   "outputs": [],
   "source": [
    "# Consulta 6\n",
    "# Obtener las diferencias de precio entre cada par de acciones en la serie histórica del IBEX35 por fecha. \n",
    "# Mostrar el nombre de las accciones, la fecha y la diferencia de valor ordenadas decrecientemente por la fecha."
   ]
  },
  {
   "cell_type": "code",
   "execution_count": null,
   "metadata": {},
   "outputs": [],
   "source": [
    "#Consulta 7\n",
    "# ¿En que fecha de la serie histórica del IBEX35 hubo más acciones donde la diferencia entre el valor máximo y el precio final fue 0?\n",
    "# Mostrar los nombres de las acciones y la fecha."
   ]
  }
 ],
 "metadata": {
  "kernelspec": {
   "display_name": "Python 3.8.8 ('base')",
   "language": "python",
   "name": "python3"
  },
  "language_info": {
   "codemirror_mode": {
    "name": "ipython",
    "version": 3
   },
   "file_extension": ".py",
   "mimetype": "text/x-python",
   "name": "python",
   "nbconvert_exporter": "python",
   "pygments_lexer": "ipython3",
   "version": "3.8.8"
  },
  "vscode": {
   "interpreter": {
    "hash": "71b9d87f2fd5b5aef9cbb0b73a40c78c4a0e77a2d7dfc47c1cede138549bfeac"
   }
  }
 },
 "nbformat": 4,
 "nbformat_minor": 2
}
